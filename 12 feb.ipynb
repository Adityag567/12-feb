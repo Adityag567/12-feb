{
 "cells": [
  {
   "cell_type": "code",
   "execution_count": null,
   "id": "1ce972eb-912d-41b7-8dde-4b5cccc1800d",
   "metadata": {},
   "outputs": [],
   "source": [
    "Q1. What is  Exception in python? Write the different between Exceptions and syntax errors"
   ]
  },
  {
   "cell_type": "code",
   "execution_count": null,
   "id": "581fc835-ea69-4d19-9e6c-a41aef1edf45",
   "metadata": {},
   "outputs": [],
   "source": [
    "An error is an issue in a program that prevents the program from completing its task. In comparison, an exception is a condition that interrupts the normal flow of the program. Both errors and exceptions are a type of runtime error, which means they occur during the execution of a program. \n",
    "In simple words, the error is a critical issue that a normal application should not catch, while an exception is a condition that a program should catch. \n",
    "here is an example of a syntax error-created the function, but with the wrong indentation. We should not handle indentation errors at runtime. Either we do it manually or use code formatting tools.\n",
    "\n",
    "    The most simple way of handling exceptions in Python is by using the `try` and `except` block.  \n",
    "\n",
    "Run the code under the `try` statement.\n",
    "When an exception is raised, execute the code under the `except` statement. \n"
   ]
  },
  {
   "cell_type": "code",
   "execution_count": null,
   "id": "2be12c12-3f4b-4188-849d-e048564062c0",
   "metadata": {},
   "outputs": [],
   "source": [
    "What happens when an exception is not handled in Python?Explain with example"
   ]
  },
  {
   "cell_type": "code",
   "execution_count": null,
   "id": "ee124237-8241-40ba-94b2-9165747ae2fb",
   "metadata": {},
   "outputs": [],
   "source": [
    "#he code that follows the except statement is the program's response to any exceptions in the preceding try clause. As you saw earlier, when syntactically correct code runs into an error, Python will throw an exception error. This exception error will crash the program if it is unhandled.\n",
    "try:\n",
    "    with open (\"file.log\") as f:\n",
    "        read=f.read()\n",
    "except:\n",
    "    print(\"couldn't open this\")"
   ]
  },
  {
   "cell_type": "code",
   "execution_count": null,
   "id": "799ba08f-b884-4f94-963f-3b416ab72a9f",
   "metadata": {},
   "outputs": [],
   "source": [
    "Q3.Which Python statements are used to catch and handle exceptions? Explain with example"
   ]
  },
  {
   "cell_type": "code",
   "execution_count": null,
   "id": "a8c89207-62a4-477d-96e3-8eaf2038e58b",
   "metadata": {},
   "outputs": [],
   "source": [
    "The try and except block in Python is used to catch and handle exceptions. Python executes code following the try statement as a “normal” part of the program. T\n",
    "\n",
    "\n",
    "try:\n",
    "   f=open(\"custom.txt\",\"w\")\n",
    "   print(\"hello\")\n",
    "   f.close()\n",
    "except Exception as e :\n",
    "    print(\"this is exception\",e)  #if no error in 1st then not go in exception"
   ]
  },
  {
   "cell_type": "code",
   "execution_count": null,
   "id": "78bb9412-a001-4169-a6ad-16ecdd71a4bf",
   "metadata": {},
   "outputs": [],
   "source": [
    "Q4.Explain with ex:\n",
    "a.try and else#\n",
    "b. finally\n",
    "c. raise"
   ]
  },
  {
   "cell_type": "code",
   "execution_count": null,
   "id": "903c7f59-e9ab-472f-b6dd-3d9a3a475baf",
   "metadata": {},
   "outputs": [],
   "source": [
    "n Python, using the else statement, you can instruct a program to execute a certain block of code only in the absence of exceptions.\n",
    "\n",
    "try:\n",
    "   f=open(\"custom1.txt\",\"r\")\n",
    "   print(\"hello\")\n",
    "except Exception as e :\n",
    "    print(\"this is exception\",e) #exception work then else not work & if try : work then elselso\n",
    "else:\n",
    "    f.close()\n",
    "    print(\"this is excuted as  in else\")\n",
    "    \n",
    "    \n",
    "    #if no error in 1st then not go in exception\n",
    "b. everything in the finally clause will be executed. \n",
    "It does not matter if you encounter an exception somewhere in the try or else clauses. \n",
    "try:\n",
    "    f = open(\"custom.txt\",\"w\")\n",
    "    f.write(\"write something\")\n",
    "    f.close()\n",
    "finally:\n",
    "    print(\"it will always print,doesn't matter all fail and pass it always work\")\n",
    "\n",
    "\n",
    "\n",
    "\n",
    "\n",
    "c.We can use raise to throw an exception if a condition occurs. The statement can be complemented with a custom exception.\n",
    "The program comes to a halt and displays our exception to screen, offering clues about what went wrong.\n",
    "\n",
    "x=10\n",
    "if x>5:\n",
    "    raise Exception(\"x should not exceed 5,The value of x was:{}\".format(x))"
   ]
  },
  {
   "cell_type": "code",
   "execution_count": null,
   "id": "4c1455cb-8166-4ad4-8a2e-4b089678f30f",
   "metadata": {},
   "outputs": [],
   "source": [
    "What are Custom Exceptions in python? Why do we need Custom Exceptions? Explain with example"
   ]
  },
  {
   "cell_type": "code",
   "execution_count": null,
   "id": "e7af0df1-a552-4a35-9b59-50849d71fe2c",
   "metadata": {},
   "outputs": [],
   "source": [
    "class validateage(Exception):\n",
    "    def __init__(self,msg):\n",
    "        self.msg=msg"
   ]
  },
  {
   "cell_type": "code",
   "execution_count": null,
   "id": "bf258bc0-965e-474c-846c-a1d3a99dd58a",
   "metadata": {},
   "outputs": [],
   "source": [
    "try:\n",
    "    age=int(input(\"enter age\"))\n",
    "    validage(age)\n",
    "except validateage as e:\n",
    "    print(\"age is valid\")"
   ]
  },
  {
   "cell_type": "code",
   "execution_count": null,
   "id": "80483819-d2bd-4faa-a0c1-ffe72625d8c3",
   "metadata": {},
   "outputs": [],
   "source": [
    "def validage(age):\n",
    "    if age < 0:\n",
    "        raise validateage(\"entered age is negative\")\n",
    "    elif age > 200:\n",
    "        raise validateage(\"entered age is high\")\n",
    "    else :\n",
    "        print(\"age is valid\")"
   ]
  },
  {
   "cell_type": "code",
   "execution_count": null,
   "id": "4feefb7b-573d-47aa-9b8f-c02f47a9ae7a",
   "metadata": {},
   "outputs": [],
   "source": [
    "Q6. Create custom exception class in python. Use this class to handle n exception."
   ]
  },
  {
   "cell_type": "code",
   "execution_count": null,
   "id": "66c0c0b3-6739-4013-8987-66b29fcaba9d",
   "metadata": {},
   "outputs": [],
   "source": [
    " Python, we can define custom exceptions by creating a new class that is derived from the built-in Exception class.\n",
    "When we are developing a large Python program, it is a good practice to place all the user-defined exceptions that our program raises in a separate file.\n",
    "Many standard modules define their exceptions separately as exceptions.py or errors.py (generally but not always).\n",
    "\n",
    "class invalidage(exception):\n",
    "    \"Raise when the input value less than 18\"\n",
    "    pass\n",
    "\n",
    "nuber=18\n",
    "\n",
    "try:\n",
    "    inputage=int(input(\"enter a number: \"))\n",
    "    if inputage< nuber:\n",
    "        raise invalidage\n",
    "    else:\n",
    "        print(\"eligible to vote\")\n",
    "\n",
    "except invalidage:\n",
    "    print(\"exception occured\")\n",
    "    \n",
    "\n"
   ]
  },
  {
   "cell_type": "code",
   "execution_count": null,
   "id": "da15b5a1-0780-4cf9-9f51-a73b59891812",
   "metadata": {},
   "outputs": [],
   "source": []
  },
  {
   "cell_type": "code",
   "execution_count": null,
   "id": "ac7358dc-51dd-4479-aab1-313dca3ceb42",
   "metadata": {},
   "outputs": [],
   "source": []
  }
 ],
 "metadata": {
  "kernelspec": {
   "display_name": "Python 3 (ipykernel)",
   "language": "python",
   "name": "python3"
  },
  "language_info": {
   "codemirror_mode": {
    "name": "ipython",
    "version": 3
   },
   "file_extension": ".py",
   "mimetype": "text/x-python",
   "name": "python",
   "nbconvert_exporter": "python",
   "pygments_lexer": "ipython3",
   "version": "3.12.0"
  }
 },
 "nbformat": 4,
 "nbformat_minor": 5
}
